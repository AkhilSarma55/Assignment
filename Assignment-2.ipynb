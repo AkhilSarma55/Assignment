{
 "cells": [
  {
   "cell_type": "markdown",
   "id": "c51c37da",
   "metadata": {},
   "source": [
    "# 1. Write a Python program to convert kilometers to miles?"
   ]
  },
  {
   "cell_type": "code",
   "execution_count": 7,
   "id": "90311c8a",
   "metadata": {},
   "outputs": [],
   "source": [
    "def kilom(m):\n",
    "    \"This takes dstance in arg and return distance in miles\"\n",
    "    miles=0.621371*m\n",
    "    return \"Conversion of {} km in miles is {} miles\".format(m,round(miles,4))"
   ]
  },
  {
   "cell_type": "code",
   "execution_count": 8,
   "id": "2fde0e6e",
   "metadata": {},
   "outputs": [
    {
     "data": {
      "text/plain": [
       "'Conversion of 100 km in miles is 62.1371 miles'"
      ]
     },
     "execution_count": 8,
     "metadata": {},
     "output_type": "execute_result"
    }
   ],
   "source": [
    "kilom(100)"
   ]
  },
  {
   "cell_type": "markdown",
   "id": "a1a3e134",
   "metadata": {},
   "source": [
    "# 2. Write a Python program to convert Celsius to Fahrenheit?"
   ]
  },
  {
   "cell_type": "code",
   "execution_count": 9,
   "id": "7ccba78d",
   "metadata": {},
   "outputs": [],
   "source": [
    "def faher(cel):\n",
    "    \"This take Temp in celsius in arg and return temp in faher\"\n",
    "    fah=1.8*cel+32\n",
    "    return \"Conversion of {} degree celsisus in degress faherheit is {} degree\".format(cel,round(fah,3))\n",
    "    "
   ]
  },
  {
   "cell_type": "code",
   "execution_count": 10,
   "id": "435e7398",
   "metadata": {},
   "outputs": [
    {
     "data": {
      "text/plain": [
       "'Conversion of 32 degree celsisus in degress faherheit is 89.6 degree'"
      ]
     },
     "execution_count": 10,
     "metadata": {},
     "output_type": "execute_result"
    }
   ],
   "source": [
    "faher(32)"
   ]
  },
  {
   "cell_type": "markdown",
   "id": "2f167977",
   "metadata": {},
   "source": [
    "# 3. Write a Python program to display calendar?"
   ]
  },
  {
   "cell_type": "code",
   "execution_count": 11,
   "id": "5bf89f47",
   "metadata": {},
   "outputs": [],
   "source": [
    "import calendar\n",
    "def mon(year,month):\n",
    "    \"\"\"This function takes year, month as args and returns calender for month in that year\"\"\"\n",
    "    print(calendar.month(year,month))"
   ]
  },
  {
   "cell_type": "code",
   "execution_count": 13,
   "id": "0a3941b7",
   "metadata": {},
   "outputs": [
    {
     "name": "stdout",
     "output_type": "stream",
     "text": [
      "     June 2021\n",
      "Mo Tu We Th Fr Sa Su\n",
      "    1  2  3  4  5  6\n",
      " 7  8  9 10 11 12 13\n",
      "14 15 16 17 18 19 20\n",
      "21 22 23 24 25 26 27\n",
      "28 29 30\n",
      "\n"
     ]
    }
   ],
   "source": [
    "mon(2021,6)"
   ]
  },
  {
   "cell_type": "markdown",
   "id": "2960d505",
   "metadata": {},
   "source": [
    "# 4. Write a Python program to solve quadratic equation?"
   ]
  },
  {
   "cell_type": "markdown",
   "id": "f2a7bc93",
   "metadata": {},
   "source": [
    "- suppose generalised quadratic equation ax**2 + bx + c = 0"
   ]
  },
  {
   "cell_type": "code",
   "execution_count": 15,
   "id": "bf2b3dd3",
   "metadata": {},
   "outputs": [],
   "source": [
    "def quad(a,b,c):\n",
    "    \"\"\"This function takes co-efficients of standard quadratic equation as args and return only real solutions\"\"\"\n",
    "    disc = ((b**2)- 4*a*c)\n",
    "    if disc > 0:\n",
    "        x,y = (- b + disc** 0.5)/(2*a) , (- b - disc** 0.5)/(2*a)\n",
    "        return \"solution of given quatratic equation (real solutions) is: {} and {} \".format(round(x,3),round(y,3)) \n",
    "    elif disc < 0:\n",
    "        x,y = complex((- b + disc** 0.5)/(2*a)) , complex((- b - disc** 0.5)/(2*a))\n",
    "        return \"solution of given quatratic equation (complex solutions) is: {} and {} \".format((round(x.real, 3) + round(x.imag, 3) * 1j),(round(y.real, 3) + round(y.imag, 3) * 1j))\n",
    "    else:\n",
    "        x,y = (- b + disc** 0.5)/(2*a) , (- b - disc** 0.5)/(2*a)\n",
    "        return \"solution of given quatratic equation (real and equal solutions) is: {} and {} \".format(round(x,3),round(y,3))"
   ]
  },
  {
   "cell_type": "code",
   "execution_count": 16,
   "id": "da88949f",
   "metadata": {},
   "outputs": [
    {
     "data": {
      "text/plain": [
       "'solution of given quatratic equation (complex solutions) is: (-0.5+6.614j) and (-0.5-6.614j) '"
      ]
     },
     "execution_count": 16,
     "metadata": {},
     "output_type": "execute_result"
    }
   ],
   "source": [
    "quad(1,1,44)"
   ]
  },
  {
   "cell_type": "markdown",
   "id": "a1f0e58d",
   "metadata": {},
   "source": [
    "# 5. Write a Python program to swap two variables without temp variable?"
   ]
  },
  {
   "cell_type": "code",
   "execution_count": 17,
   "id": "778fc6ba",
   "metadata": {},
   "outputs": [],
   "source": [
    "def swap(a,b):\n",
    "    \"\"\"This function takes two numbers as args and returns swapped numbers\"\"\"\n",
    "    l = [a,b]\n",
    "    a= l[1]\n",
    "    b= l[0]\n",
    "    return a,b"
   ]
  },
  {
   "cell_type": "code",
   "execution_count": 18,
   "id": "3ccfe0b6",
   "metadata": {},
   "outputs": [],
   "source": [
    "a,b = swap(10,3)"
   ]
  },
  {
   "cell_type": "code",
   "execution_count": 19,
   "id": "aede5853",
   "metadata": {},
   "outputs": [
    {
     "data": {
      "text/plain": [
       "3"
      ]
     },
     "execution_count": 19,
     "metadata": {},
     "output_type": "execute_result"
    }
   ],
   "source": [
    "a"
   ]
  },
  {
   "cell_type": "code",
   "execution_count": 20,
   "id": "81ad3a6e",
   "metadata": {},
   "outputs": [
    {
     "data": {
      "text/plain": [
       "10"
      ]
     },
     "execution_count": 20,
     "metadata": {},
     "output_type": "execute_result"
    }
   ],
   "source": [
    "b"
   ]
  },
  {
   "cell_type": "code",
   "execution_count": null,
   "id": "932c9fc1",
   "metadata": {},
   "outputs": [],
   "source": []
  }
 ],
 "metadata": {
  "kernelspec": {
   "display_name": "Python 3 (ipykernel)",
   "language": "python",
   "name": "python3"
  },
  "language_info": {
   "codemirror_mode": {
    "name": "ipython",
    "version": 3
   },
   "file_extension": ".py",
   "mimetype": "text/x-python",
   "name": "python",
   "nbconvert_exporter": "python",
   "pygments_lexer": "ipython3",
   "version": "3.9.12"
  }
 },
 "nbformat": 4,
 "nbformat_minor": 5
}
