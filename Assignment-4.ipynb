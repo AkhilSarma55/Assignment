{
 "cells": [
  {
   "cell_type": "markdown",
   "id": "c2575519",
   "metadata": {},
   "source": [
    "# 1. Write a Python Program to Find the Factorial of a Number?"
   ]
  },
  {
   "cell_type": "code",
   "execution_count": 1,
   "id": "3b731299",
   "metadata": {},
   "outputs": [],
   "source": [
    "def fact_for(n):\n",
    "    \"\"\"This function takes number as arg and returns its factorial\"\"\"\n",
    "    factorial = 1\n",
    "    for i in range(1,n+1):\n",
    "        factorial = factorial * i\n",
    "        i += 1\n",
    "    return \"Factorial of entered number {} is {} \".format(n,factorial)"
   ]
  },
  {
   "cell_type": "code",
   "execution_count": 3,
   "id": "584accfa",
   "metadata": {},
   "outputs": [
    {
     "data": {
      "text/plain": [
       "'Factorial of entered number 5 is 120 '"
      ]
     },
     "execution_count": 3,
     "metadata": {},
     "output_type": "execute_result"
    }
   ],
   "source": [
    "fact_for(5)"
   ]
  },
  {
   "cell_type": "markdown",
   "id": "28f21dc8",
   "metadata": {},
   "source": [
    "# 2. Write a Python Program to Display the multiplication Table?\n"
   ]
  },
  {
   "cell_type": "code",
   "execution_count": 4,
   "id": "f3ba6837",
   "metadata": {},
   "outputs": [],
   "source": [
    "def mult_table(n):\n",
    "    \"\"\"This func takes no. as arg and returns its multiplication table\"\"\"\n",
    "    c=1\n",
    "    for i in range(1,11):\n",
    "        \n",
    "        c=n*i\n",
    "        print(\"{} X {} = {}\".format(n,i,c))"
   ]
  },
  {
   "cell_type": "code",
   "execution_count": 6,
   "id": "b1b01af5",
   "metadata": {},
   "outputs": [
    {
     "name": "stdout",
     "output_type": "stream",
     "text": [
      "15 X 1 = 15\n",
      "15 X 2 = 30\n",
      "15 X 3 = 45\n",
      "15 X 4 = 60\n",
      "15 X 5 = 75\n",
      "15 X 6 = 90\n",
      "15 X 7 = 105\n",
      "15 X 8 = 120\n",
      "15 X 9 = 135\n",
      "15 X 10 = 150\n"
     ]
    }
   ],
   "source": [
    "mult_table(15)"
   ]
  },
  {
   "cell_type": "markdown",
   "id": "707a21b5",
   "metadata": {},
   "source": [
    "# 3. Write a Python Program to Print the Fibonacci sequence?"
   ]
  },
  {
   "cell_type": "code",
   "execution_count": 7,
   "id": "207aa363",
   "metadata": {},
   "outputs": [],
   "source": [
    "def fib_while(n,a,b):\n",
    "    \"\"\"Function takes steps, first and second number as args and returns fibonacci sequence\"\"\"\n",
    "    c = 0\n",
    "    i = 0\n",
    "    print(a)\n",
    "    print(b)\n",
    "    while i < n-2:\n",
    "        c= a + b\n",
    "        a = b\n",
    "        b = c\n",
    "        i += 1\n",
    "        print(c)"
   ]
  },
  {
   "cell_type": "code",
   "execution_count": 8,
   "id": "b2236e22",
   "metadata": {},
   "outputs": [
    {
     "name": "stdout",
     "output_type": "stream",
     "text": [
      "1\n",
      "2\n",
      "3\n",
      "5\n",
      "8\n",
      "13\n",
      "21\n",
      "34\n"
     ]
    }
   ],
   "source": [
    "fib_while(8,1,2)"
   ]
  },
  {
   "cell_type": "code",
   "execution_count": 9,
   "id": "79900383",
   "metadata": {},
   "outputs": [],
   "source": [
    "def fib_for(n,a,b):\n",
    "    \"\"\"Function takes steps, first and second number as args and returns fibonacci sequence\"\"\"\n",
    "    for i in range(n):\n",
    "        print(a)\n",
    "        a,b = b, a+b"
   ]
  },
  {
   "cell_type": "code",
   "execution_count": 10,
   "id": "e771a9a5",
   "metadata": {},
   "outputs": [
    {
     "name": "stdout",
     "output_type": "stream",
     "text": [
      "1\n",
      "2\n",
      "3\n",
      "5\n",
      "8\n",
      "13\n",
      "21\n",
      "34\n"
     ]
    }
   ],
   "source": [
    "fib_for(8,1,2)"
   ]
  },
  {
   "cell_type": "markdown",
   "id": "f224a737",
   "metadata": {},
   "source": [
    "# 4. Write a Python Program to Check Armstrong Number?\n"
   ]
  },
  {
   "cell_type": "code",
   "execution_count": 11,
   "id": "b26655b6",
   "metadata": {},
   "outputs": [],
   "source": [
    "def check_arm(n):\n",
    "    \"\"\"The func takes no. as args and checks for armstrong number\"\"\"\n",
    "    m = len(str(n))\n",
    "    c=0\n",
    "    for i in str(n):\n",
    "        c = c + int(i)**m\n",
    "    if c == int(n):\n",
    "        return \"Entered Number {} is a Armstrong Number\".format(n)\n",
    "    else:\n",
    "        return \"Entered Number {} is not a Armstrong Number\".format(n)"
   ]
  },
  {
   "cell_type": "code",
   "execution_count": 12,
   "id": "e404cc77",
   "metadata": {},
   "outputs": [
    {
     "data": {
      "text/plain": [
       "'Entered Number 361 is not a Armstrong Number'"
      ]
     },
     "execution_count": 12,
     "metadata": {},
     "output_type": "execute_result"
    }
   ],
   "source": [
    "check_arm(361)"
   ]
  },
  {
   "cell_type": "markdown",
   "id": "47f38139",
   "metadata": {},
   "source": [
    "# 5. Write a Python Program to Find Armstrong Number in an Interval?"
   ]
  },
  {
   "cell_type": "code",
   "execution_count": 13,
   "id": "4f900b1f",
   "metadata": {},
   "outputs": [],
   "source": [
    "def find_arm(a,b):\n",
    "    \"\"\"this function takes interval and returns list of all armstrong number in that interval\"\"\"\n",
    "    l1 = []\n",
    "    for n in range(a, b+1):\n",
    "        m = len(str(n))\n",
    "        c=0  \n",
    "        for i in str(n):\n",
    "            c = c + int(i)**m\n",
    "            if c == int(n):\n",
    "                l1.append(c)\n",
    "    print(\"Armstrong Numbers in Between {} and {} is {}\".format(a,b,l1))"
   ]
  },
  {
   "cell_type": "code",
   "execution_count": 14,
   "id": "31cd046d",
   "metadata": {},
   "outputs": [
    {
     "name": "stdout",
     "output_type": "stream",
     "text": [
      "Armstrong Numbers in Between 0 and 100 is [0, 1, 2, 3, 4, 5, 6, 7, 8, 9]\n"
     ]
    }
   ],
   "source": [
    "find_arm(0,100)"
   ]
  },
  {
   "cell_type": "markdown",
   "id": "9279d1ef",
   "metadata": {},
   "source": [
    "# 6. Write a Python Program to Find the Sum of Natural Numbers?"
   ]
  },
  {
   "cell_type": "markdown",
   "id": "2d20da6b",
   "metadata": {},
   "source": [
    "# Sum of first n natural numbers"
   ]
  },
  {
   "cell_type": "code",
   "execution_count": 15,
   "id": "82b41d86",
   "metadata": {},
   "outputs": [],
   "source": [
    "def firstN_sum(n):\n",
    "    \"\"\"This function takes nth natural no. as arg an returns sum of first n natural nos.\"\"\"\n",
    "    sum = int((n*(n+1)/2))\n",
    "    return \"sum first {} natural numbers is {}\".format(n,sum)"
   ]
  },
  {
   "cell_type": "code",
   "execution_count": 16,
   "id": "a4c0ccf7",
   "metadata": {},
   "outputs": [
    {
     "data": {
      "text/plain": [
       "'sum first 10 natural numbers is 55'"
      ]
     },
     "execution_count": 16,
     "metadata": {},
     "output_type": "execute_result"
    }
   ],
   "source": [
    "firstN_sum(10)"
   ]
  },
  {
   "cell_type": "code",
   "execution_count": 17,
   "id": "84ed8f0a",
   "metadata": {},
   "outputs": [],
   "source": [
    "def interval_sum(a,b):\n",
    "    \"\"\"This function takes two nos. as args and returns sum of natural nos. in that interval\"\"\"\n",
    "    sum = 0\n",
    "    if a !=0:\n",
    "        for i in range(a,b+1):\n",
    "            sum = sum + i\n",
    "    return \"sum of natural numbers between '{}' and '{}' is '{}'\".format(a,b,sum)"
   ]
  },
  {
   "cell_type": "code",
   "execution_count": 18,
   "id": "de6e6c16",
   "metadata": {},
   "outputs": [
    {
     "data": {
      "text/plain": [
       "\"sum of natural numbers between '99' and '199' is '15049'\""
      ]
     },
     "execution_count": 18,
     "metadata": {},
     "output_type": "execute_result"
    }
   ],
   "source": [
    "interval_sum(99,199)"
   ]
  },
  {
   "cell_type": "code",
   "execution_count": null,
   "id": "b466b785",
   "metadata": {},
   "outputs": [],
   "source": []
  }
 ],
 "metadata": {
  "kernelspec": {
   "display_name": "Python 3 (ipykernel)",
   "language": "python",
   "name": "python3"
  },
  "language_info": {
   "codemirror_mode": {
    "name": "ipython",
    "version": 3
   },
   "file_extension": ".py",
   "mimetype": "text/x-python",
   "name": "python",
   "nbconvert_exporter": "python",
   "pygments_lexer": "ipython3",
   "version": "3.9.12"
  }
 },
 "nbformat": 4,
 "nbformat_minor": 5
}
