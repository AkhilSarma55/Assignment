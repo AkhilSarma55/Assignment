{
 "cells": [
  {
   "cell_type": "markdown",
   "id": "1110fe5e",
   "metadata": {},
   "source": [
    "# 1. Write a Python program to find sum of elements in list?"
   ]
  },
  {
   "cell_type": "code",
   "execution_count": 1,
   "id": "0a40bff0",
   "metadata": {},
   "outputs": [],
   "source": [
    "l = [1,2,3,4,5,99,8.9999,True, False, \"sameer\"]\n",
    "\n",
    "def sum_list(l):\n",
    "    \"\"\"This function takes list as arg and returns sum of all nos. in it\"\"\"\n",
    "    sum = 0\n",
    "    for i in l:\n",
    "        if type(i) == int or type(i) == float:\n",
    "            sum = sum + i\n",
    "    return \"Sum of all the numbers in given List is {}\".format(sum)  "
   ]
  },
  {
   "cell_type": "code",
   "execution_count": 2,
   "id": "98158ed9",
   "metadata": {},
   "outputs": [
    {
     "data": {
      "text/plain": [
       "'Sum of all the numbers in given List is 122.9999'"
      ]
     },
     "execution_count": 2,
     "metadata": {},
     "output_type": "execute_result"
    }
   ],
   "source": [
    "sum_list(l)"
   ]
  },
  {
   "cell_type": "markdown",
   "id": "c05aef9c",
   "metadata": {},
   "source": [
    "# 2. Write a Python program to Multiply all numbers in the list?"
   ]
  },
  {
   "cell_type": "code",
   "execution_count": 3,
   "id": "a548d3c2",
   "metadata": {},
   "outputs": [],
   "source": [
    "l = [1,2,3,4,5,99,8.9999,True, False, \"sameer\"]\n",
    "\n",
    "def prod_list(l):\n",
    "    \"\"\"This function takes list as arg and returns product of all nos. in it\"\"\"\n",
    "    prod = 1\n",
    "    for i in l:\n",
    "        if type(i) == int or type(i) == float:\n",
    "            prod = float(prod) * i\n",
    "    return \"product of all the numbers in given List is {}\".format(prod)"
   ]
  },
  {
   "cell_type": "code",
   "execution_count": 4,
   "id": "fd90e402",
   "metadata": {},
   "outputs": [
    {
     "data": {
      "text/plain": [
       "'product of all the numbers in given List is 106918.812'"
      ]
     },
     "execution_count": 4,
     "metadata": {},
     "output_type": "execute_result"
    }
   ],
   "source": [
    "prod_list(l)"
   ]
  },
  {
   "cell_type": "markdown",
   "id": "7c754687",
   "metadata": {},
   "source": [
    "# 3. Write a Python program to find smallest number in a list?"
   ]
  },
  {
   "cell_type": "code",
   "execution_count": 5,
   "id": "ad720aa6",
   "metadata": {},
   "outputs": [],
   "source": [
    "l1 =[99,123,8,4,56,32421,123456576,435,234]\n",
    "\n",
    "\n",
    "def min_list(l):\n",
    "    \"\"\"This function takes list as arg and returns smallest no. in it\"\"\"\n",
    "    min = l1[0]\n",
    "    for i in range(len(l1)):\n",
    "        if l1[i] < min:\n",
    "            min = l1[i]\n",
    "    return \"Smallest Number in given list is {}\".format(min)  "
   ]
  },
  {
   "cell_type": "code",
   "execution_count": 6,
   "id": "4f421ce3",
   "metadata": {},
   "outputs": [
    {
     "data": {
      "text/plain": [
       "'Smallest Number in given list is 4'"
      ]
     },
     "execution_count": 6,
     "metadata": {},
     "output_type": "execute_result"
    }
   ],
   "source": [
    "min_list(l1)"
   ]
  },
  {
   "cell_type": "markdown",
   "id": "9722315c",
   "metadata": {},
   "source": [
    "# 4. Write a Python program to find largest number in a list?"
   ]
  },
  {
   "cell_type": "code",
   "execution_count": 7,
   "id": "1c251d73",
   "metadata": {},
   "outputs": [],
   "source": [
    "l1 =[99,123,8,4,56,32421,123456576,435,234]\n",
    "\n",
    "\n",
    "def max_list(l):\n",
    "    \"\"\"This function takes list as arg and returns largest no. in it\"\"\"\n",
    "    max = l1[0]\n",
    "    for i in range(len(l1)):\n",
    "        if l1[i] > max:\n",
    "            max = l1[i]\n",
    "    return \"Largest Number in given list is {}\".format(max) "
   ]
  },
  {
   "cell_type": "code",
   "execution_count": 8,
   "id": "b2ee8619",
   "metadata": {},
   "outputs": [
    {
     "data": {
      "text/plain": [
       "'Largest Number in given list is 123456576'"
      ]
     },
     "execution_count": 8,
     "metadata": {},
     "output_type": "execute_result"
    }
   ],
   "source": [
    "max_list(l1)"
   ]
  },
  {
   "cell_type": "markdown",
   "id": "547dd4d2",
   "metadata": {},
   "source": [
    "# 5. Write a Python program to find second largest number in a list?"
   ]
  },
  {
   "cell_type": "code",
   "execution_count": 9,
   "id": "c06e1970",
   "metadata": {},
   "outputs": [],
   "source": [
    "l1 =[99,123,8,4,56,32421,123456576,435,456123123,99999999988,9999999999999999999999999,234]\n",
    "\n",
    "def secondL_list(l):\n",
    "    \"\"\"This function takes list as arg and returns second largest no. in it\"\"\"\n",
    "    l2 = []\n",
    "    max = l1[0]\n",
    "    for i in range(len(l1)):\n",
    "        if l1[i] > max:\n",
    "            max = l1[i]\n",
    "            l2.append(max)\n",
    "    return \"second largest Number in given list is {}\".format(l2[len(l2)-2]) "
   ]
  },
  {
   "cell_type": "code",
   "execution_count": 10,
   "id": "8f58af50",
   "metadata": {},
   "outputs": [
    {
     "data": {
      "text/plain": [
       "'second largest Number in given list is 99999999988'"
      ]
     },
     "execution_count": 10,
     "metadata": {},
     "output_type": "execute_result"
    }
   ],
   "source": [
    "secondL_list(l1)"
   ]
  },
  {
   "cell_type": "markdown",
   "id": "53669215",
   "metadata": {},
   "source": [
    "# 6. Write a Python program to find N largest elements from a list?"
   ]
  },
  {
   "cell_type": "code",
   "execution_count": 11,
   "id": "58c2c87a",
   "metadata": {},
   "outputs": [],
   "source": [
    "l1 =[99,123,8,4,56,32421,123456576,435,456123123,99999999988,9999999999999999999999999,234]\n",
    "\n",
    "def nthLNumber_list(n,l):\n",
    "    \"\"\"This function takes list as arg and returns nth largest no. in it\"\"\"\n",
    "    l.sort(reverse=True)\n",
    "    if n == 1:\n",
    "        th = \"st\"\n",
    "    elif n == 2:\n",
    "        th = \"nd\"\n",
    "    elif n == 3:\n",
    "        th = \"rd\"\n",
    "    else:\n",
    "        th = \"th\"\n",
    "    return \"{}{} largest number in the given list is {}\".format(n,th,l1[n-1])"
   ]
  },
  {
   "cell_type": "code",
   "execution_count": 12,
   "id": "518ca72e",
   "metadata": {},
   "outputs": [
    {
     "data": {
      "text/plain": [
       "'2nd largest number in the given list is 99999999988'"
      ]
     },
     "execution_count": 12,
     "metadata": {},
     "output_type": "execute_result"
    }
   ],
   "source": [
    "nthLNumber_list(2,l1)"
   ]
  },
  {
   "cell_type": "markdown",
   "id": "934f9304",
   "metadata": {},
   "source": [
    "# 7. Write a Python program to print even numbers in a list?"
   ]
  },
  {
   "cell_type": "code",
   "execution_count": 13,
   "id": "7fca50ca",
   "metadata": {},
   "outputs": [],
   "source": [
    "l1 = [1,2,3,4,5,6,7,8,9,10]\n",
    "\n",
    "def even_list(l):\n",
    "    \"\"\"This function takes list as arg and returns even numbers in the list\"\"\"\n",
    "    print(\"even numbers in the given list are as follows: \")\n",
    "    for i in l:\n",
    "        if i % 2 == 0:   \n",
    "            print( i, end = \" \")"
   ]
  },
  {
   "cell_type": "code",
   "execution_count": 14,
   "id": "a0bfb0f9",
   "metadata": {},
   "outputs": [
    {
     "name": "stdout",
     "output_type": "stream",
     "text": [
      "even numbers in the given list are as follows: \n",
      "2 4 6 8 10 "
     ]
    }
   ],
   "source": [
    "even_list(l1)"
   ]
  },
  {
   "cell_type": "markdown",
   "id": "b3193f92",
   "metadata": {},
   "source": [
    "# 8. Write a Python program to print odd numbers in a List?"
   ]
  },
  {
   "cell_type": "code",
   "execution_count": 15,
   "id": "5928a735",
   "metadata": {},
   "outputs": [],
   "source": [
    "l1 = [1,2,3,4,5,6,7,8,9,10]\n",
    "\n",
    "def odd_list(l):\n",
    "    \"\"\"This function takes list as arg and returns odd numbers in the list\"\"\"\n",
    "    print(\"odd numbers in the given list are as follows: \")\n",
    "    for i in l:\n",
    "        if i % 2 != 0:   \n",
    "            print( i, end = \" \") "
   ]
  },
  {
   "cell_type": "code",
   "execution_count": 17,
   "id": "16e8bf99",
   "metadata": {},
   "outputs": [
    {
     "name": "stdout",
     "output_type": "stream",
     "text": [
      "odd numbers in the given list are as follows: \n",
      "1 3 5 7 9 "
     ]
    }
   ],
   "source": [
    "odd_list(l1)"
   ]
  },
  {
   "cell_type": "markdown",
   "id": "077544e5",
   "metadata": {},
   "source": [
    "# 9. Write a Python program to Remove empty List from List?"
   ]
  },
  {
   "cell_type": "code",
   "execution_count": 18,
   "id": "36e92472",
   "metadata": {},
   "outputs": [],
   "source": [
    "l1 = [1,2,3,4,5,6,7,8,[],9,10,[],11,[]]\n",
    "\n",
    "def emptyL_remover(l):\n",
    "    \"\"\"This func takes list as arg and returns list after removing empty list in it.\"\"\"\n",
    "    for i in l:\n",
    "        if type(i) == list:\n",
    "                if i == []:\n",
    "                    l.remove(i)\n",
    "    return \"Given list without empty list in it is {}\".format(l)"
   ]
  },
  {
   "cell_type": "code",
   "execution_count": 19,
   "id": "5ebfb893",
   "metadata": {},
   "outputs": [
    {
     "data": {
      "text/plain": [
       "'Given list without empty list in it is [1, 2, 3, 4, 5, 6, 7, 8, 9, 10, 11]'"
      ]
     },
     "execution_count": 19,
     "metadata": {},
     "output_type": "execute_result"
    }
   ],
   "source": [
    "emptyL_remover(l1)"
   ]
  },
  {
   "cell_type": "markdown",
   "id": "ea0c08c9",
   "metadata": {},
   "source": [
    "# 10. Write a Python program to Cloning or Copying a list?"
   ]
  },
  {
   "cell_type": "code",
   "execution_count": 20,
   "id": "ad5e2543",
   "metadata": {},
   "outputs": [],
   "source": [
    "l1 = [1,2,3,4,5,6,7,8,9,10]\n",
    "\n",
    "def clone_list(l):\n",
    "    \"\"\"This func takes list as arg and returns copy of the original list\"\"\"\n",
    "    l1 = []\n",
    "    for i in l:\n",
    "        l1.append(i)\n",
    "    return \"Cloning or Copying of original list is {}\".format(l1)"
   ]
  },
  {
   "cell_type": "code",
   "execution_count": 21,
   "id": "ac99ebb2",
   "metadata": {},
   "outputs": [
    {
     "data": {
      "text/plain": [
       "'Cloning or Copying of original list is [1, 2, 3, 4, 5, 6, 7, 8, 9, 10]'"
      ]
     },
     "execution_count": 21,
     "metadata": {},
     "output_type": "execute_result"
    }
   ],
   "source": [
    "clone_list(l1)"
   ]
  },
  {
   "cell_type": "markdown",
   "id": "c2c084c4",
   "metadata": {},
   "source": [
    "# 11. Write a Python program to Count occurrences of an element in a list?"
   ]
  },
  {
   "cell_type": "code",
   "execution_count": 22,
   "id": "2772f58c",
   "metadata": {},
   "outputs": [],
   "source": [
    "l1 = [1,1,2,3,3,4,4,4,4,4,3,3,2,2,6,6,7,7,\"sudh\"]\n",
    "\n",
    "def count_occur(l):\n",
    "    \"\"\"This func takes list as arg and returns count of occurance of elements in it\"\"\"\n",
    "    for i in set(l1):\n",
    "        p = l1.count(i)\n",
    "        print(\"{} occured {} times in the list\".format(i,p)) "
   ]
  },
  {
   "cell_type": "code",
   "execution_count": 23,
   "id": "f933a997",
   "metadata": {},
   "outputs": [
    {
     "name": "stdout",
     "output_type": "stream",
     "text": [
      "1 occured 2 times in the list\n",
      "2 occured 3 times in the list\n",
      "3 occured 4 times in the list\n",
      "4 occured 5 times in the list\n",
      "6 occured 2 times in the list\n",
      "7 occured 2 times in the list\n",
      "sudh occured 1 times in the list\n"
     ]
    }
   ],
   "source": [
    "count_occur(l1)"
   ]
  },
  {
   "cell_type": "code",
   "execution_count": null,
   "id": "d3b14552",
   "metadata": {},
   "outputs": [],
   "source": []
  }
 ],
 "metadata": {
  "kernelspec": {
   "display_name": "Python 3 (ipykernel)",
   "language": "python",
   "name": "python3"
  },
  "language_info": {
   "codemirror_mode": {
    "name": "ipython",
    "version": 3
   },
   "file_extension": ".py",
   "mimetype": "text/x-python",
   "name": "python",
   "nbconvert_exporter": "python",
   "pygments_lexer": "ipython3",
   "version": "3.9.12"
  }
 },
 "nbformat": 4,
 "nbformat_minor": 5
}
