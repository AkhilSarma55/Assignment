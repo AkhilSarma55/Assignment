{
 "cells": [
  {
   "cell_type": "markdown",
   "id": "e5b5ec21",
   "metadata": {},
   "source": [
    "# 1.Write a Python Program to Add Two Matrices?"
   ]
  },
  {
   "cell_type": "code",
   "execution_count": 1,
   "id": "0c188131",
   "metadata": {},
   "outputs": [
    {
     "data": {
      "text/plain": [
       "[[11, 22, 33], [44, 55, 66], [77, 88, 99]]"
      ]
     },
     "execution_count": 1,
     "metadata": {},
     "output_type": "execute_result"
    }
   ],
   "source": [
    "x = [[1,2,3],[4,5,6],[7,8,9]]\n",
    "y = [[10,20,30],[40,50,60],[70,80,90]]\n",
    "\n",
    "def matrices_add(a,b):\n",
    "    \"\"\"\n",
    "    This func takes two matrices as an argument and returns\n",
    "    addition of two matrices.\n",
    "    \"\"\"\n",
    "    Addition = [[0,0,0],[0,0,0],[0,0,0]]\n",
    "    for i in range(len(a)):\n",
    "        for j in range(len(b[0])):\n",
    "            Addition[i][j] = a[i][j] + b[i][j]\n",
    "    return Addition\n",
    "\n",
    "matrices_add(x,y)"
   ]
  },
  {
   "cell_type": "markdown",
   "id": "2047226c",
   "metadata": {},
   "source": [
    "# 2. Write a Python Program to Multiply Two Matrices?"
   ]
  },
  {
   "cell_type": "code",
   "execution_count": 2,
   "id": "ddcab9ff",
   "metadata": {},
   "outputs": [
    {
     "data": {
      "text/plain": [
       "[[300, 360, 420], [660, 810, 960], [1020, 1260, 1500]]"
      ]
     },
     "execution_count": 2,
     "metadata": {},
     "output_type": "execute_result"
    }
   ],
   "source": [
    "x = [[1,2,3],[4,5,6],[7,8,9]]\n",
    "y = [[10,20,30],[40,50,60],[70,80,90]]\n",
    "\n",
    "def matrices_multp(a,b):\n",
    "    \"\"\"\n",
    "    This func takes two matrices as an argument and returns\n",
    "    multiplication of two matrices.\n",
    "    \"\"\"\n",
    "    \n",
    "    Multiplication = [[0,0,0],[0,0,0],[0,0,0]]\n",
    "    for i in range(len(a)):\n",
    "        for j in range(len(b[0])):\n",
    "            for k in range(len(b)):\n",
    "                Multiplication[i][j] += a[i][k] * b[k][j]\n",
    "    return  Multiplication\n",
    "\n",
    "matrices_multp(x,y)"
   ]
  },
  {
   "cell_type": "markdown",
   "id": "01a7e89c",
   "metadata": {},
   "source": [
    "# 3. Write a Python Program to Transpose a Matrix?"
   ]
  },
  {
   "cell_type": "code",
   "execution_count": 3,
   "id": "aaa44a2e",
   "metadata": {},
   "outputs": [
    {
     "data": {
      "text/plain": [
       "[[1, 4, 7], [2, 5, 8], [3, 6, 9]]"
      ]
     },
     "execution_count": 3,
     "metadata": {},
     "output_type": "execute_result"
    }
   ],
   "source": [
    "x = [[1,2,3],[4,5,6],[7,8,9]]\n",
    "\n",
    "def matrix_transpose(a):\n",
    "    \"\"\"\n",
    "    This func takes a matrix as an argument and returns the\n",
    "    transpose of that matrix.\n",
    "    \"\"\"\n",
    "    Transpose = [[0,0,0],[0,0,0],[0,0,0]]\n",
    "    for i in range(len(a)):\n",
    "        for j in range(len(a[0])):\n",
    "            Transpose[j][i] = a[i][j]\n",
    "    return Transpose\n",
    "\n",
    "matrix_transpose(x)"
   ]
  },
  {
   "cell_type": "markdown",
   "id": "2f32b64c",
   "metadata": {},
   "source": [
    "# 4.Write a Python Program to Sort Words in Alphabetic Order?"
   ]
  },
  {
   "cell_type": "code",
   "execution_count": 4,
   "id": "9d89c225",
   "metadata": {},
   "outputs": [],
   "source": [
    "l = ['apple', 'orange', 'Banana', 'cherry', 'Pineapple']"
   ]
  },
  {
   "cell_type": "code",
   "execution_count": 5,
   "id": "04732751",
   "metadata": {},
   "outputs": [
    {
     "data": {
      "text/plain": [
       "['Banana', 'Pineapple', 'apple', 'cherry', 'orange']"
      ]
     },
     "execution_count": 5,
     "metadata": {},
     "output_type": "execute_result"
    }
   ],
   "source": [
    "def sort_alpha_sensitive(l):\n",
    "    \"\"\"\n",
    "    This func takes a list of strings as an argument\n",
    "    and returns a case sensetive sorted list.\n",
    "    \"\"\"\n",
    "    return sorted(l, key= lambda x : x)\n",
    "    \n",
    "sort_alpha_sensitive(l)"
   ]
  },
  {
   "cell_type": "code",
   "execution_count": 6,
   "id": "06bf067b",
   "metadata": {},
   "outputs": [
    {
     "data": {
      "text/plain": [
       "['apple', 'Banana', 'cherry', 'orange', 'Pineapple']"
      ]
     },
     "execution_count": 6,
     "metadata": {},
     "output_type": "execute_result"
    }
   ],
   "source": [
    "def sort_alpha_insensitive(l):\n",
    "    \"\"\"\n",
    "    This func takes a list of strings as an argument\n",
    "    and returns a case in-sensetive sorted list.\n",
    "    \"\"\"\n",
    "    return sorted(l, key= lambda x : x.lower())\n",
    "    \n",
    "sort_alpha_insensitive(l)"
   ]
  },
  {
   "cell_type": "markdown",
   "id": "a2edc909",
   "metadata": {},
   "source": [
    "# 5.Write a Python Program to Remove Punctuation From a String?"
   ]
  },
  {
   "cell_type": "code",
   "execution_count": 7,
   "id": "ea900cff",
   "metadata": {},
   "outputs": [
    {
     "data": {
      "text/plain": [
       "'My name is Akhil'"
      ]
     },
     "execution_count": 7,
     "metadata": {},
     "output_type": "execute_result"
    }
   ],
   "source": [
    "def punc_remover(s):\n",
    "    \"\"\"\n",
    "    This function takes string as an argument and returns \n",
    "    a string after removing all punctuation marks.\n",
    "    \"\"\"\n",
    "    punctuation_marks = ['.', '?', '!', ',', ':', ';', '-', '_', '(', ')', '[', ']', '{', '}', \"'\", '\"', '...']\n",
    "    s1 = \"\"\n",
    "    for i in s:\n",
    "        if i not in punctuation_marks:\n",
    "            s1 += i\n",
    "    return s1\n",
    "\n",
    "s = \".My?!,:;- _name(] is{' Akhil...\"\n",
    "\n",
    "punc_remover(s)"
   ]
  },
  {
   "cell_type": "code",
   "execution_count": null,
   "id": "7dd22a5c",
   "metadata": {},
   "outputs": [],
   "source": []
  }
 ],
 "metadata": {
  "kernelspec": {
   "display_name": "Python 3 (ipykernel)",
   "language": "python",
   "name": "python3"
  },
  "language_info": {
   "codemirror_mode": {
    "name": "ipython",
    "version": 3
   },
   "file_extension": ".py",
   "mimetype": "text/x-python",
   "name": "python",
   "nbconvert_exporter": "python",
   "pygments_lexer": "ipython3",
   "version": "3.9.12"
  }
 },
 "nbformat": 4,
 "nbformat_minor": 5
}
