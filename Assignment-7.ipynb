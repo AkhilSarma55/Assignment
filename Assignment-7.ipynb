{
 "cells": [
  {
   "cell_type": "markdown",
   "id": "83eadcc5",
   "metadata": {},
   "source": [
    "# 1. Write a Python Program to find sum of array?"
   ]
  },
  {
   "cell_type": "code",
   "execution_count": 2,
   "id": "d8cfd682",
   "metadata": {},
   "outputs": [],
   "source": [
    "import array\n",
    "a = array.array('i',[1,10000,2,3,4,5,45,99])\n",
    "\n",
    "def sum_array(a):\n",
    "    \"\"\"\n",
    "    This func takes an array as an arg and returns sum of elements in it.\n",
    "    \"\"\"\n",
    "    \n",
    "    sum = 0\n",
    "    for i in a:\n",
    "        sum += i\n",
    "        \n",
    "    return \"sum of elements in {} is {} \".format(a,sum) "
   ]
  },
  {
   "cell_type": "code",
   "execution_count": 3,
   "id": "a9f5f10a",
   "metadata": {},
   "outputs": [
    {
     "data": {
      "text/plain": [
       "\"sum of elements in array('i', [1, 10000, 2, 3, 4, 5, 45, 99]) is 10159 \""
      ]
     },
     "execution_count": 3,
     "metadata": {},
     "output_type": "execute_result"
    }
   ],
   "source": [
    "sum_array(a)"
   ]
  },
  {
   "cell_type": "markdown",
   "id": "8a6ebbd3",
   "metadata": {},
   "source": [
    "# 2. Write a Python Program to find largest element in an array?"
   ]
  },
  {
   "cell_type": "code",
   "execution_count": 4,
   "id": "1004ee8a",
   "metadata": {},
   "outputs": [],
   "source": [
    "def Largest_no_array(a):\n",
    "    \"\"\"\n",
    "    This func takes an arrayas an arg and returns \n",
    "    the largest number in an array.\n",
    "    \"\"\"\n",
    "    \n",
    "    max = a[0]\n",
    "    for i in range(len(a)):\n",
    "        if a[i] > max:\n",
    "            max = a[i]\n",
    "        \n",
    "    return \"largest element in {} is {} \".format(a,max)"
   ]
  },
  {
   "cell_type": "code",
   "execution_count": 5,
   "id": "708d471a",
   "metadata": {},
   "outputs": [
    {
     "data": {
      "text/plain": [
       "\"largest element in array('i', [1, 10000, 2, 3, 4, 5, 45, 99]) is 10000 \""
      ]
     },
     "execution_count": 5,
     "metadata": {},
     "output_type": "execute_result"
    }
   ],
   "source": [
    "a = array.array('i',[1,10000,2,3,4,5,45,99])\n",
    "\n",
    "Largest_no_array(a)"
   ]
  },
  {
   "cell_type": "markdown",
   "id": "1b7ea734",
   "metadata": {},
   "source": [
    "# 3. Write a Python Program for array rotation?"
   ]
  },
  {
   "cell_type": "code",
   "execution_count": 6,
   "id": "133f4752",
   "metadata": {},
   "outputs": [],
   "source": [
    "def left_rotation_array(a,n):\n",
    "    \"\"\"\n",
    "    This func takes an array and no. of rotations as an \n",
    "    arg and returns left rotation of array.\n",
    "    \"\"\"\n",
    "    \n",
    "    l = a[n:] + a[0:n]\n",
    "    print(\"Left rotation of given array is: \")\n",
    "    for i in l:\n",
    "        print(i, end = \" \")\n",
    "        \n",
    "    \n",
    "b = array.array('i',[1,3,5,7,9,11])"
   ]
  },
  {
   "cell_type": "code",
   "execution_count": 7,
   "id": "1a3cb297",
   "metadata": {},
   "outputs": [
    {
     "name": "stdout",
     "output_type": "stream",
     "text": [
      "Left rotation of given array is: \n",
      "7 9 11 1 3 5 "
     ]
    }
   ],
   "source": [
    "left_rotation_array(b,3)"
   ]
  },
  {
   "cell_type": "markdown",
   "id": "27f722ba",
   "metadata": {},
   "source": [
    "# 4. Write a Python Program to Split the array and add the first part to the end?"
   ]
  },
  {
   "cell_type": "code",
   "execution_count": 8,
   "id": "1cfae60b",
   "metadata": {},
   "outputs": [],
   "source": [
    "def Split_array_add_ftol(a,n):\n",
    "    \"\"\"\n",
    "    This func takes an array and a index no. at which array is to be splitted as arg \n",
    "    and returns the array after adding first part to the end. \n",
    "    \"\"\"\n",
    "    \n",
    "    l =  a[n:] + a[0:n]\n",
    "    print(\"first part of array: \", a[n:])\n",
    "    print(\"second part of array: \", a[0:n])\n",
    "    print(\"first part of array added to the end of second part of array is: \")\n",
    "    \n",
    "    for i in l:\n",
    "        print(i, end = \" \")"
   ]
  },
  {
   "cell_type": "code",
   "execution_count": 9,
   "id": "34dd20a6",
   "metadata": {},
   "outputs": [
    {
     "name": "stdout",
     "output_type": "stream",
     "text": [
      "first part of array:  array('i', [7, 9, 11])\n",
      "second part of array:  array('i', [1, 3, 5])\n",
      "first part of array added to the end of second part of array is: \n",
      "7 9 11 1 3 5 "
     ]
    }
   ],
   "source": [
    "b = array.array('i',[1,3,5,7,9,11])  \n",
    "\n",
    "Split_array_add_ftol(b,3)"
   ]
  },
  {
   "cell_type": "markdown",
   "id": "d3bd61a0",
   "metadata": {},
   "source": [
    "# 5. Write a Python Program to check if given array is Monotonic?"
   ]
  },
  {
   "cell_type": "code",
   "execution_count": 10,
   "id": "dc227021",
   "metadata": {},
   "outputs": [],
   "source": [
    "def is_monotonic(a):\n",
    "    \"\"\"\n",
    "    This func takes an array as an arg and checks if it \n",
    "    is monotonic or not.\n",
    "    \"\"\"\n",
    "    \n",
    "    l = list(a)\n",
    "    if l == sorted(l) or l[::-1] == sorted(l):\n",
    "        return \"array {} is monotonic\".format(l)\n",
    "    else:\n",
    "        return \"array {} is not monotonic\".format(l)\n",
    "        "
   ]
  },
  {
   "cell_type": "code",
   "execution_count": 11,
   "id": "91216e63",
   "metadata": {},
   "outputs": [],
   "source": [
    "c= array.array('i',[10,9,8,7,6,5,4,3,2,1]) \n",
    "d = array.array('i',[1,2,3,4,5,6,7,8,9,10])\n",
    "e = array.array('i',[1,2,5,4,6,88,78])"
   ]
  },
  {
   "cell_type": "code",
   "execution_count": 12,
   "id": "73ae5d0b",
   "metadata": {},
   "outputs": [
    {
     "data": {
      "text/plain": [
       "'array [10, 9, 8, 7, 6, 5, 4, 3, 2, 1] is monotonic'"
      ]
     },
     "execution_count": 12,
     "metadata": {},
     "output_type": "execute_result"
    }
   ],
   "source": [
    "is_monotonic(c)"
   ]
  },
  {
   "cell_type": "code",
   "execution_count": 13,
   "id": "64609ac4",
   "metadata": {},
   "outputs": [
    {
     "data": {
      "text/plain": [
       "'array [1, 2, 5, 4, 6, 88, 78] is not monotonic'"
      ]
     },
     "execution_count": 13,
     "metadata": {},
     "output_type": "execute_result"
    }
   ],
   "source": [
    "is_monotonic(e)"
   ]
  },
  {
   "cell_type": "code",
   "execution_count": 14,
   "id": "8be91f2e",
   "metadata": {},
   "outputs": [
    {
     "data": {
      "text/plain": [
       "'array [1, 2, 3, 4, 5, 6, 7, 8, 9, 10] is monotonic'"
      ]
     },
     "execution_count": 14,
     "metadata": {},
     "output_type": "execute_result"
    }
   ],
   "source": [
    "is_monotonic(d)"
   ]
  },
  {
   "cell_type": "code",
   "execution_count": null,
   "id": "e6438a49",
   "metadata": {},
   "outputs": [],
   "source": []
  }
 ],
 "metadata": {
  "kernelspec": {
   "display_name": "Python 3 (ipykernel)",
   "language": "python",
   "name": "python3"
  },
  "language_info": {
   "codemirror_mode": {
    "name": "ipython",
    "version": 3
   },
   "file_extension": ".py",
   "mimetype": "text/x-python",
   "name": "python",
   "nbconvert_exporter": "python",
   "pygments_lexer": "ipython3",
   "version": "3.9.12"
  }
 },
 "nbformat": 4,
 "nbformat_minor": 5
}
