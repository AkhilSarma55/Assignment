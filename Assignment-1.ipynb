{
 "cells": [
  {
   "cell_type": "markdown",
   "id": "9d270822",
   "metadata": {},
   "source": [
    "# 1.Write a Python program to print \"Hello Python\"?\n"
   ]
  },
  {
   "cell_type": "code",
   "execution_count": 28,
   "id": "e9bb47a2",
   "metadata": {},
   "outputs": [
    {
     "name": "stdout",
     "output_type": "stream",
     "text": [
      "hello python\n"
     ]
    }
   ],
   "source": [
    "print(\"hello python\")"
   ]
  },
  {
   "cell_type": "markdown",
   "id": "7c156b67",
   "metadata": {},
   "source": [
    "# 2. Write a Python program to do arithmetical operations addition and division.?"
   ]
  },
  {
   "cell_type": "code",
   "execution_count": 8,
   "id": "864047b2",
   "metadata": {},
   "outputs": [],
   "source": [
    "def add(a,b):\n",
    "    \"This function takes two numbers and return add or div \"\n",
    "    add=a+b\n",
    "    print(\"addition of\",a,\"and\",b,\"is\",add)\n",
    "    try:\n",
    "        div=a/b\n",
    "        print(\"Divison of\",a,\"and\",b,\"is\",div)\n",
    "    except ZeroDivisionError:\n",
    "        print(\"enter nonzero denominator value\")"
   ]
  },
  {
   "cell_type": "code",
   "execution_count": 9,
   "id": "9ab23301",
   "metadata": {},
   "outputs": [
    {
     "name": "stdout",
     "output_type": "stream",
     "text": [
      "addition of 10 and 2 is 12\n",
      "Divison of 10 and 2 is 5.0\n"
     ]
    }
   ],
   "source": [
    "add(10,2)"
   ]
  },
  {
   "cell_type": "code",
   "execution_count": 10,
   "id": "18691bf0",
   "metadata": {},
   "outputs": [
    {
     "name": "stdout",
     "output_type": "stream",
     "text": [
      "addition of 52 and 0 is 52\n",
      "enter nonzero denominator value\n"
     ]
    }
   ],
   "source": [
    "add(52,0)"
   ]
  },
  {
   "cell_type": "markdown",
   "id": "c5eedd92",
   "metadata": {},
   "source": [
    "# 3. Write a Python program to find the area of a triangle?"
   ]
  },
  {
   "cell_type": "code",
   "execution_count": 17,
   "id": "9318624d",
   "metadata": {},
   "outputs": [],
   "source": [
    "def area_triangle(a,b,c):\n",
    "    \"function taken length of sthree sides of triangle of ars and return area\"\n",
    "    s=(a+b+c)/2\n",
    "    area=(s*(s-a)*(s-b)*(s-c))**0.5\n",
    "    print(\"area of triangle of {} units {} units {} units is {} squnits\".format(a,b,c,area))\n",
    "        "
   ]
  },
  {
   "cell_type": "code",
   "execution_count": 18,
   "id": "d0facc9f",
   "metadata": {},
   "outputs": [
    {
     "name": "stdout",
     "output_type": "stream",
     "text": [
      "area of triangle of 3 units 4 units 5 units is 6.0 squnits\n"
     ]
    }
   ],
   "source": [
    "area_triangle(3,4,5)"
   ]
  },
  {
   "cell_type": "markdown",
   "id": "4dd619fd",
   "metadata": {},
   "source": [
    "# 4. Write a Python program to swap two variables?"
   ]
  },
  {
   "cell_type": "code",
   "execution_count": 23,
   "id": "cde996ff",
   "metadata": {},
   "outputs": [],
   "source": [
    "def swap(a,b):\n",
    "    \"This function take two nos as arg and return swapped values\"\n",
    "    temp=0\n",
    "    temp=a\n",
    "    a=b\n",
    "    b=temp\n",
    "    print(\"Swaped values of A and B is {} and {}\".format(a,b))"
   ]
  },
  {
   "cell_type": "code",
   "execution_count": 24,
   "id": "02308bd6",
   "metadata": {},
   "outputs": [
    {
     "name": "stdout",
     "output_type": "stream",
     "text": [
      "Swaped values of A and B is 3 and 2\n"
     ]
    }
   ],
   "source": [
    "swap(2,3)"
   ]
  },
  {
   "cell_type": "markdown",
   "id": "ce03510a",
   "metadata": {},
   "source": [
    "# 5. Write a Python program to generate a random number?"
   ]
  },
  {
   "cell_type": "code",
   "execution_count": 25,
   "id": "fd444f34",
   "metadata": {},
   "outputs": [],
   "source": [
    "import random\n",
    "def rannum():\n",
    "    \"This function returns a random integer\"\n",
    "    return random.randint(1,10000)"
   ]
  },
  {
   "cell_type": "code",
   "execution_count": 26,
   "id": "937b24f0",
   "metadata": {},
   "outputs": [
    {
     "data": {
      "text/plain": [
       "3362"
      ]
     },
     "execution_count": 26,
     "metadata": {},
     "output_type": "execute_result"
    }
   ],
   "source": [
    "rannum()"
   ]
  },
  {
   "cell_type": "code",
   "execution_count": 27,
   "id": "5bb4039e",
   "metadata": {},
   "outputs": [
    {
     "data": {
      "text/plain": [
       "3718"
      ]
     },
     "execution_count": 27,
     "metadata": {},
     "output_type": "execute_result"
    }
   ],
   "source": [
    "rannum()"
   ]
  },
  {
   "cell_type": "code",
   "execution_count": null,
   "id": "66065170",
   "metadata": {},
   "outputs": [],
   "source": []
  }
 ],
 "metadata": {
  "kernelspec": {
   "display_name": "Python 3 (ipykernel)",
   "language": "python",
   "name": "python3"
  },
  "language_info": {
   "codemirror_mode": {
    "name": "ipython",
    "version": 3
   },
   "file_extension": ".py",
   "mimetype": "text/x-python",
   "name": "python",
   "nbconvert_exporter": "python",
   "pygments_lexer": "ipython3",
   "version": "3.9.12"
  }
 },
 "nbformat": 4,
 "nbformat_minor": 5
}
