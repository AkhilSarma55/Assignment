{
 "cells": [
  {
   "cell_type": "markdown",
   "id": "49dd1477",
   "metadata": {},
   "source": [
    "# 1. Write a Python Program to Display Fibonacci Sequence Using Recursion?"
   ]
  },
  {
   "cell_type": "code",
   "execution_count": 1,
   "id": "82fc2576",
   "metadata": {},
   "outputs": [
    {
     "name": "stdout",
     "output_type": "stream",
     "text": [
      "Enter no of iterations: 10\n",
      "0\n",
      "1\n",
      "1\n",
      "2\n",
      "3\n",
      "5\n",
      "8\n",
      "13\n",
      "21\n",
      "34\n"
     ]
    }
   ],
   "source": [
    "def fib_recursion(n):\n",
    "    \"\"\"\n",
    "    This func returns fibonacci sequence using recursion\n",
    "    \"\"\"\n",
    "    if n == 0:\n",
    "        return 0\n",
    "    elif n == 1:\n",
    "        return 1\n",
    "    else:\n",
    "        return fib_recursion(n-1) + fib_recursion(n-2)\n",
    "    \n",
    "n1 = int(input(\"Enter no of iterations: \"))\n",
    "l = [fib_recursion(i) for i in range(n1)]\n",
    "for i in l:\n",
    "    print(i)"
   ]
  },
  {
   "cell_type": "markdown",
   "id": "d9ebb470",
   "metadata": {},
   "source": [
    "# 2. Write a Python Program to Find Factorial of Number Using Recursion?"
   ]
  },
  {
   "cell_type": "code",
   "execution_count": 3,
   "id": "a943508f",
   "metadata": {},
   "outputs": [],
   "source": [
    "def fact_recursion(n):\n",
    "    \"\"\"\n",
    "    This func takes no. as args and returns its factorial using recursion\n",
    "    \"\"\"\n",
    "    fact = 1\n",
    "    if n == 0 or n ==1 :\n",
    "        return fact\n",
    "    else:\n",
    "        fact = n * fact_recursion(n-1)\n",
    "        return fact"
   ]
  },
  {
   "cell_type": "code",
   "execution_count": 4,
   "id": "f820367e",
   "metadata": {},
   "outputs": [
    {
     "data": {
      "text/plain": [
       "120"
      ]
     },
     "execution_count": 4,
     "metadata": {},
     "output_type": "execute_result"
    }
   ],
   "source": [
    "fact_recursion(5)"
   ]
  },
  {
   "cell_type": "markdown",
   "id": "124ec425",
   "metadata": {},
   "source": [
    "# 3. Write a Python Program to calculate your Body Mass Index?"
   ]
  },
  {
   "cell_type": "code",
   "execution_count": 5,
   "id": "5bf796a7",
   "metadata": {},
   "outputs": [],
   "source": [
    "\n",
    "def BMI_calc(w,h):\n",
    "    \"\"\"\n",
    "    This func takes weight in kgs and height in cms of a person as an arg and\n",
    "    returns BMI of that Person.\n",
    "    \"\"\"\n",
    "    \n",
    "    bmi = float((w/(h/100)**2))\n",
    "    \n",
    "    if bmi < 18.5:\n",
    "        print(\"Your BMI is \", round(bmi,2), \" and you are underweight\")\n",
    "    elif bmi>= 25:\n",
    "        print(\"Your BMI is \", round(bmi,2), \" and you have over weight\")\n",
    "    else :\n",
    "        print(\"Your BMI is \", round(bmi,2), \" and you have healthy weight\")"
   ]
  },
  {
   "cell_type": "code",
   "execution_count": 6,
   "id": "374b3acc",
   "metadata": {},
   "outputs": [
    {
     "name": "stdout",
     "output_type": "stream",
     "text": [
      "Your BMI is  39.06  and you have over weight\n"
     ]
    }
   ],
   "source": [
    "BMI_calc(100,160)"
   ]
  },
  {
   "cell_type": "markdown",
   "id": "ea6ac7ba",
   "metadata": {},
   "source": [
    "# 4. Write a Python Program to calculate the natural logarithm of any number?"
   ]
  },
  {
   "cell_type": "code",
   "execution_count": 7,
   "id": "d9b51507",
   "metadata": {},
   "outputs": [],
   "source": [
    "from math import log\n",
    "def natural_log(n):\n",
    "    \"\"\"\n",
    "    This func takes a no. as an arg and returns \n",
    "    its natural log.\n",
    "    \"\"\"\n",
    "    return round(log(n),2)"
   ]
  },
  {
   "cell_type": "code",
   "execution_count": 8,
   "id": "ffd9bdff",
   "metadata": {},
   "outputs": [
    {
     "data": {
      "text/plain": [
       "3.91"
      ]
     },
     "execution_count": 8,
     "metadata": {},
     "output_type": "execute_result"
    }
   ],
   "source": [
    "natural_log(50)"
   ]
  },
  {
   "cell_type": "markdown",
   "id": "b153c3f9",
   "metadata": {},
   "source": [
    "# 5. Write a Python Program for cube sum of first n natural numbers?"
   ]
  },
  {
   "cell_type": "code",
   "execution_count": 9,
   "id": "e79a460b",
   "metadata": {},
   "outputs": [],
   "source": [
    "def sumcube(n):\n",
    "    print(\"entered natural number is: \", n)\n",
    "    sum = 0\n",
    "    for i in range(1, n+1):\n",
    "        p = i**3\n",
    "        sum = sum + p\n",
    "    print(\"sum cubes of first \", n ,\" natural numbers is: \")\n",
    "    return sum"
   ]
  },
  {
   "cell_type": "code",
   "execution_count": 10,
   "id": "a50316da",
   "metadata": {},
   "outputs": [
    {
     "name": "stdout",
     "output_type": "stream",
     "text": [
      "entered natural number is:  50\n",
      "sum cubes of first  50  natural numbers is: \n"
     ]
    },
    {
     "data": {
      "text/plain": [
       "1625625"
      ]
     },
     "execution_count": 10,
     "metadata": {},
     "output_type": "execute_result"
    }
   ],
   "source": [
    "sumcube(50)"
   ]
  },
  {
   "cell_type": "code",
   "execution_count": null,
   "id": "c8a1081a",
   "metadata": {},
   "outputs": [],
   "source": []
  }
 ],
 "metadata": {
  "kernelspec": {
   "display_name": "Python 3 (ipykernel)",
   "language": "python",
   "name": "python3"
  },
  "language_info": {
   "codemirror_mode": {
    "name": "ipython",
    "version": 3
   },
   "file_extension": ".py",
   "mimetype": "text/x-python",
   "name": "python",
   "nbconvert_exporter": "python",
   "pygments_lexer": "ipython3",
   "version": "3.9.12"
  }
 },
 "nbformat": 4,
 "nbformat_minor": 5
}
