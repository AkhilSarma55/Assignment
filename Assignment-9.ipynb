{
 "cells": [
  {
   "cell_type": "markdown",
   "id": "8078a84e",
   "metadata": {},
   "source": [
    "# 1. Write a Python program to check if the given number is a Disarium Number?"
   ]
  },
  {
   "cell_type": "code",
   "execution_count": 1,
   "id": "320b0597",
   "metadata": {},
   "outputs": [],
   "source": [
    "def is_disarium(n):\n",
    "    \"\"\"\n",
    "    This func takes a no. as an arg and checks if given no. is a disarium number.\n",
    "    \"\"\"\n",
    "    n = str(n)\n",
    "    sum = 0\n",
    "    count = 1\n",
    "    for i in n:\n",
    "        sum += int(i)**count\n",
    "        count += 1\n",
    "    if sum == int(n):\n",
    "        return \"Entered number {} is disarium number\".format(n)\n",
    "    else:\n",
    "        return \"Entered number {} is not disarium number\".format(n)\n",
    "        "
   ]
  },
  {
   "cell_type": "code",
   "execution_count": 2,
   "id": "66bd009c",
   "metadata": {},
   "outputs": [
    {
     "data": {
      "text/plain": [
       "'Entered number 145 is not disarium number'"
      ]
     },
     "execution_count": 2,
     "metadata": {},
     "output_type": "execute_result"
    }
   ],
   "source": [
    "is_disarium(145)"
   ]
  },
  {
   "cell_type": "markdown",
   "id": "7743194b",
   "metadata": {},
   "source": [
    "# 2. Write a Python program to print all disarium numbers between 1 to 100?"
   ]
  },
  {
   "cell_type": "code",
   "execution_count": 3,
   "id": "f0e2f0ce",
   "metadata": {},
   "outputs": [],
   "source": [
    "def print_all_disarium(a,b):\n",
    "    \"\"\"\n",
    "    This func takes a and b as args and returns disarium \n",
    "    number in range of a and b(both included).\n",
    "    \"\"\"\n",
    "    for i in range(a,b+1):\n",
    "        i = str(i)\n",
    "        \n",
    "        sum = 0\n",
    "        count = 1\n",
    "        for j in i:\n",
    "            sum += int(j)**count\n",
    "            count += 1\n",
    "        if sum == int(i):\n",
    "            print(i, end = \"  \")"
   ]
  },
  {
   "cell_type": "code",
   "execution_count": 4,
   "id": "c07c1b44",
   "metadata": {},
   "outputs": [
    {
     "name": "stdout",
     "output_type": "stream",
     "text": [
      "1  2  3  4  5  6  7  8  9  89  "
     ]
    }
   ],
   "source": [
    "print_all_disarium(1,100)"
   ]
  },
  {
   "cell_type": "markdown",
   "id": "36086cf2",
   "metadata": {},
   "source": [
    "# 3. Write a Python program to check if the given number is Happy Number"
   ]
  },
  {
   "cell_type": "code",
   "execution_count": 5,
   "id": "7ce684a4",
   "metadata": {},
   "outputs": [],
   "source": [
    "def is_happy(n):\n",
    "    \"\"\"\n",
    "    This func takes a no. as an arg and checks if given no. is a happy number.\n",
    "    \"\"\"\n",
    "    l = list()   #This list is created to store value of sum after each iteration,\n",
    "                 # to check if sum takes any value present in list, then it will not be a happy number \n",
    "                 # as the value of sum will never reach One\n",
    "    while True: \n",
    "        if n != 1 and n not in l:\n",
    "            l.append(n)\n",
    "            sum = 0\n",
    "            for i in str(n):\n",
    "                sum += int(i)**2\n",
    "            n = sum\n",
    "        elif n in l:\n",
    "            return \"entered number is not a happy number\"\n",
    "            break\n",
    "        else:\n",
    "            return \"entered number is a happy number\"\n",
    "            break"
   ]
  },
  {
   "cell_type": "code",
   "execution_count": 6,
   "id": "ca099f8f",
   "metadata": {},
   "outputs": [
    {
     "data": {
      "text/plain": [
       "'entered number is not a happy number'"
      ]
     },
     "execution_count": 6,
     "metadata": {},
     "output_type": "execute_result"
    }
   ],
   "source": [
    "is_happy(45)"
   ]
  },
  {
   "cell_type": "markdown",
   "id": "dfbf150d",
   "metadata": {},
   "source": [
    "# 4. Write a Python program to print all happy numbers between 1 and 100?"
   ]
  },
  {
   "cell_type": "code",
   "execution_count": 7,
   "id": "7255500b",
   "metadata": {},
   "outputs": [],
   "source": [
    "def happy_no_upto100(a,b):\n",
    "    \"\"\"\n",
    "    This func takes a and b as args and returns happy \n",
    "    number in range of a and b(both included).\n",
    "    \"\"\"\n",
    "    \n",
    "    l = []\n",
    "    for i in range(a,b+1):\n",
    "        l1 = list()\n",
    "        original_i = i  #this variable is defined to store original value of n as it will be \n",
    "                        #appended in list of happy no.\n",
    "        while True:\n",
    "            if i != 1 and i not in l1:\n",
    "                l1.append(i)\n",
    "                sum = 0\n",
    "                for j in str(i):\n",
    "                    sum += int(j)**2\n",
    "                i = sum\n",
    "            elif i in l1:\n",
    "                break\n",
    "            else:\n",
    "                l.append(original_i)\n",
    "                break \n",
    "                \n",
    "    return \"list of Happy number in between {} and {} is: {}\".format(a,b,l)"
   ]
  },
  {
   "cell_type": "code",
   "execution_count": 8,
   "id": "fe85d7c8",
   "metadata": {},
   "outputs": [
    {
     "data": {
      "text/plain": [
       "'list of Happy number in between 1 and 100 is: [1, 7, 10, 13, 19, 23, 28, 31, 32, 44, 49, 68, 70, 79, 82, 86, 91, 94, 97, 100]'"
      ]
     },
     "execution_count": 8,
     "metadata": {},
     "output_type": "execute_result"
    }
   ],
   "source": [
    "happy_no_upto100(1,100)"
   ]
  },
  {
   "cell_type": "markdown",
   "id": "81db063b",
   "metadata": {},
   "source": [
    "# 5. Write a Python program to determine whether the given number is a Harshad Number?"
   ]
  },
  {
   "cell_type": "code",
   "execution_count": 9,
   "id": "0340a530",
   "metadata": {},
   "outputs": [],
   "source": [
    "def is_harshadno(n):\n",
    "    \"\"\"\n",
    "    This func takes a no. as an arg and checks if given no. is a Harshad number.\n",
    "    \"\"\"\n",
    "    \n",
    "    sum = 0\n",
    "    for i in str(n):\n",
    "        sum += int(i)\n",
    "    if n % sum == 0:\n",
    "        return \"Entered number {} is Harshad Number\".format(n)\n",
    "    else:\n",
    "        return \"Entered number {} is not Harshad Number\".format(n)"
   ]
  },
  {
   "cell_type": "code",
   "execution_count": 10,
   "id": "3faa9a41",
   "metadata": {},
   "outputs": [
    {
     "data": {
      "text/plain": [
       "'Entered number 1 is Harshad Number'"
      ]
     },
     "execution_count": 10,
     "metadata": {},
     "output_type": "execute_result"
    }
   ],
   "source": [
    "is_harshadno(1)"
   ]
  },
  {
   "cell_type": "markdown",
   "id": "53eeeac3",
   "metadata": {},
   "source": [
    "# 6. Write a Python program to print all pronic numbers between 1 and 100?"
   ]
  },
  {
   "cell_type": "code",
   "execution_count": 11,
   "id": "7a7e32c0",
   "metadata": {},
   "outputs": [],
   "source": [
    "def pronic_number(a,b):\n",
    "    \"\"\"\n",
    "    This func takes a and b as args and returns all pronic \n",
    "    number in range of a and b(both included).\n",
    "    \"\"\"\n",
    "    l = []\n",
    "    for i in range(a,b+1):\n",
    "        p = i * (i+1)\n",
    "        if p <= 100:\n",
    "            l.append(p)\n",
    "            \n",
    "    return \"list of Pronic number in between {} and {} is: {}\".format(a,b,l)"
   ]
  },
  {
   "cell_type": "code",
   "execution_count": 12,
   "id": "e52c4ce6",
   "metadata": {},
   "outputs": [
    {
     "data": {
      "text/plain": [
       "'list of Pronic number in between 1 and 100 is: [2, 6, 12, 20, 30, 42, 56, 72, 90]'"
      ]
     },
     "execution_count": 12,
     "metadata": {},
     "output_type": "execute_result"
    }
   ],
   "source": [
    "pronic_number(1,100)"
   ]
  },
  {
   "cell_type": "code",
   "execution_count": null,
   "id": "94fc0537",
   "metadata": {},
   "outputs": [],
   "source": []
  }
 ],
 "metadata": {
  "kernelspec": {
   "display_name": "Python 3 (ipykernel)",
   "language": "python",
   "name": "python3"
  },
  "language_info": {
   "codemirror_mode": {
    "name": "ipython",
    "version": 3
   },
   "file_extension": ".py",
   "mimetype": "text/x-python",
   "name": "python",
   "nbconvert_exporter": "python",
   "pygments_lexer": "ipython3",
   "version": "3.9.12"
  }
 },
 "nbformat": 4,
 "nbformat_minor": 5
}
