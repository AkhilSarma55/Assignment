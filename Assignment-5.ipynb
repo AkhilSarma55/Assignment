{
 "cells": [
  {
   "cell_type": "markdown",
   "id": "bf68444c",
   "metadata": {},
   "source": [
    "# 1. Write a Python Program to Find LCM?"
   ]
  },
  {
   "cell_type": "code",
   "execution_count": 1,
   "id": "c88915d1",
   "metadata": {},
   "outputs": [],
   "source": [
    "def lcm(a,b):\n",
    "    \"\"\"This func takes 2 nos. as arg and returns LCM.\"\"\"\n",
    "    if a > b:\n",
    "        temp = a\n",
    "    else:\n",
    "        temp = b\n",
    "    while True: \n",
    "        if (temp % a == 0) and (temp % b == 0):\n",
    "            lcm = temp\n",
    "            break\n",
    "        temp += 1\n",
    "    return \"LCM of '{}' and '{}' is '{}'\".format(a,b,lcm)"
   ]
  },
  {
   "cell_type": "code",
   "execution_count": 2,
   "id": "9b5f1504",
   "metadata": {},
   "outputs": [
    {
     "data": {
      "text/plain": [
       "\"LCM of '45' and '30' is '90'\""
      ]
     },
     "execution_count": 2,
     "metadata": {},
     "output_type": "execute_result"
    }
   ],
   "source": [
    "lcm(45,30)"
   ]
  },
  {
   "cell_type": "markdown",
   "id": "eb101880",
   "metadata": {},
   "source": [
    "# 2. Write a Python Program to Find HCF?"
   ]
  },
  {
   "cell_type": "code",
   "execution_count": 3,
   "id": "4a500a73",
   "metadata": {},
   "outputs": [],
   "source": [
    "def hcf(a,b):\n",
    "    \"\"\"This func takes 2 nos. as arg and returns HCF.\"\"\"\n",
    "    if a < b:\n",
    "        temp = a\n",
    "    else:\n",
    "        temp = b\n",
    "    while True: \n",
    "        if (a % temp == 0) and (b % temp == 0):\n",
    "            hcf = temp\n",
    "            break\n",
    "        temp -= 1\n",
    "    return \"HCF of '{}' and '{}' is '{}'\".format(a,b,hcf)"
   ]
  },
  {
   "cell_type": "code",
   "execution_count": 4,
   "id": "5e596dcf",
   "metadata": {},
   "outputs": [
    {
     "data": {
      "text/plain": [
       "\"HCF of '30' and '45' is '15'\""
      ]
     },
     "execution_count": 4,
     "metadata": {},
     "output_type": "execute_result"
    }
   ],
   "source": [
    "hcf(30,45)"
   ]
  },
  {
   "cell_type": "markdown",
   "id": "faf97dd6",
   "metadata": {},
   "source": [
    "# 3. Write a Python Program to Convert Decimal to Binary, Octal and Hexadecimal?"
   ]
  },
  {
   "cell_type": "code",
   "execution_count": 5,
   "id": "ec9148c9",
   "metadata": {},
   "outputs": [],
   "source": [
    "def decimal_b(a):\n",
    "    \"\"\"This func takes decimal no. and returns its binary no.\"\"\"\n",
    "    print(\"binary no of \", a, \" is:\")\n",
    "    i = 0\n",
    "    l=[]\n",
    "    while a >= 1:\n",
    "        c = a % 2\n",
    "        a = a //2\n",
    "        l.append(int(c))\n",
    "        i = i + 1\n",
    "    l= l[::-1]\n",
    "    for i in l:\n",
    "        print(i, end = \"\")"
   ]
  },
  {
   "cell_type": "code",
   "execution_count": 6,
   "id": "8953b3d6",
   "metadata": {},
   "outputs": [
    {
     "name": "stdout",
     "output_type": "stream",
     "text": [
      "binary no of  50  is:\n",
      "110010"
     ]
    }
   ],
   "source": [
    "decimal_b(50)"
   ]
  },
  {
   "cell_type": "code",
   "execution_count": null,
   "id": "8afb1c9a",
   "metadata": {},
   "outputs": [],
   "source": []
  },
  {
   "cell_type": "code",
   "execution_count": 7,
   "id": "66b1f0c2",
   "metadata": {},
   "outputs": [],
   "source": [
    "def decimal_o(a):\n",
    "    \"\"\"This func takes decimal no. and returns its Octal no.\"\"\"\n",
    "    print(\"octal no of \", a, \" is:\")\n",
    "    i = 0\n",
    "    l= []\n",
    "    while a >0:\n",
    "        c = a % 8\n",
    "        a = a //8\n",
    "        l.append(int(c))\n",
    "        i = i + 1\n",
    "    l= l[::-1]\n",
    "    for i in l:\n",
    "        print(i, end = \"\") "
   ]
  },
  {
   "cell_type": "code",
   "execution_count": 8,
   "id": "45bc95e7",
   "metadata": {},
   "outputs": [
    {
     "name": "stdout",
     "output_type": "stream",
     "text": [
      "octal no of  999  is:\n",
      "1747"
     ]
    }
   ],
   "source": [
    "decimal_o(999)"
   ]
  },
  {
   "cell_type": "code",
   "execution_count": 9,
   "id": "f88cebcd",
   "metadata": {},
   "outputs": [],
   "source": [
    "#decimal to hexadecimal\n",
    "def decimal_h(a):\n",
    "    \"\"\"This func takes decimal no. and returns its Hexadecimal no.\"\"\"\n",
    "    output= \"\"\n",
    "    table = [\"0\",\"1\",\"2\",\"3\",\"4\",\"5\",\"6\",\"7\",\"8\",\"9\",\"A\",\"B\",\"C\",'D','E',\"F\"]\n",
    "    while a >0:\n",
    "        c = a % 16\n",
    "        output = table[c] + output\n",
    "        a = a //16\n",
    "    print(output)"
   ]
  },
  {
   "cell_type": "code",
   "execution_count": 10,
   "id": "48e34cf8",
   "metadata": {},
   "outputs": [
    {
     "name": "stdout",
     "output_type": "stream",
     "text": [
      "3E7\n"
     ]
    }
   ],
   "source": [
    "decimal_h(999)"
   ]
  },
  {
   "cell_type": "markdown",
   "id": "f218a3d7",
   "metadata": {},
   "source": [
    "# 4. Write a Python Program To Find ASCII value of a character?"
   ]
  },
  {
   "cell_type": "code",
   "execution_count": 11,
   "id": "393ef982",
   "metadata": {},
   "outputs": [],
   "source": [
    "def ascii_value(char_on_keyboard):\n",
    "    \"\"\"This func takes keyboard character as arg and returns its ASCII value\"\"\"\n",
    "    return \"ASCII Value of Pressed Key '{}' is {}\".format(char_on_keyboard, ord(char_on_keyboard))"
   ]
  },
  {
   "cell_type": "code",
   "execution_count": 12,
   "id": "1659fe2f",
   "metadata": {},
   "outputs": [
    {
     "data": {
      "text/plain": [
       "\"ASCII Value of Pressed Key 't' is 116\""
      ]
     },
     "execution_count": 12,
     "metadata": {},
     "output_type": "execute_result"
    }
   ],
   "source": [
    "ascii_value(\"t\")"
   ]
  },
  {
   "cell_type": "markdown",
   "id": "a16680c2",
   "metadata": {},
   "source": [
    "# 5. Write a Python Program to Make a Simple Calculator with 4 basic mathematical operations?\n"
   ]
  },
  {
   "cell_type": "code",
   "execution_count": 18,
   "id": "bcfdd44f",
   "metadata": {},
   "outputs": [],
   "source": [
    "def calc(a,b,c):\n",
    "    \"\"\"This func takes 2 nos. and one operator name as arg and returns \n",
    "    the result of operation of operator on two numbers.\"\"\"\n",
    "    if c == \"division\":\n",
    "        try:\n",
    "            output = a/b\n",
    "            return \"division of {} by {} is {}\".format(a,b,float(output))\n",
    "        except ZeroDivisionError:\n",
    "            print(\"denominator should be non zero number\")\n",
    "\n",
    "    elif c == \"multiplication\":\n",
    "        output = a*b\n",
    "        return \"multiplication of {} and {} is {}\".format(a,b,float(output))\n",
    "    elif c == \"substraction\":\n",
    "        output = a-b\n",
    "        return \"subtraction of {} from {} is {}\".format(a,b,float(output))\n",
    "    elif c == \"addition\":\n",
    "        output = a+b\n",
    "        return \"addition of {} and {} is {}\".format(a,b,float(output))"
   ]
  },
  {
   "cell_type": "code",
   "execution_count": 19,
   "id": "15e08c0f",
   "metadata": {},
   "outputs": [
    {
     "name": "stdout",
     "output_type": "stream",
     "text": [
      "denominator should be non zero number\n"
     ]
    }
   ],
   "source": [
    "calc(10,0,\"division\")"
   ]
  },
  {
   "cell_type": "code",
   "execution_count": 20,
   "id": "e26be723",
   "metadata": {},
   "outputs": [
    {
     "data": {
      "text/plain": [
       "'multiplication of 10 and 50 is 500.0'"
      ]
     },
     "execution_count": 20,
     "metadata": {},
     "output_type": "execute_result"
    }
   ],
   "source": [
    "calc(10,50,\"multiplication\")"
   ]
  },
  {
   "cell_type": "code",
   "execution_count": 22,
   "id": "477d8565",
   "metadata": {},
   "outputs": [
    {
     "data": {
      "text/plain": [
       "'subtraction of 2 from 3 is -1.0'"
      ]
     },
     "execution_count": 22,
     "metadata": {},
     "output_type": "execute_result"
    }
   ],
   "source": [
    "calc(2,3,\"substraction\")"
   ]
  },
  {
   "cell_type": "code",
   "execution_count": 23,
   "id": "67c06155",
   "metadata": {},
   "outputs": [
    {
     "data": {
      "text/plain": [
       "'addition of 3 and 4 is 7.0'"
      ]
     },
     "execution_count": 23,
     "metadata": {},
     "output_type": "execute_result"
    }
   ],
   "source": [
    "calc(3,4,\"addition\")"
   ]
  },
  {
   "cell_type": "code",
   "execution_count": null,
   "id": "3d57f6ca",
   "metadata": {},
   "outputs": [],
   "source": []
  }
 ],
 "metadata": {
  "kernelspec": {
   "display_name": "Python 3 (ipykernel)",
   "language": "python",
   "name": "python3"
  },
  "language_info": {
   "codemirror_mode": {
    "name": "ipython",
    "version": 3
   },
   "file_extension": ".py",
   "mimetype": "text/x-python",
   "name": "python",
   "nbconvert_exporter": "python",
   "pygments_lexer": "ipython3",
   "version": "3.9.12"
  }
 },
 "nbformat": 4,
 "nbformat_minor": 5
}
